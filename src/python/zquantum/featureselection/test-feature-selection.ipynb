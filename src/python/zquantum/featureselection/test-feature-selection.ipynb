{
 "cells": [
  {
   "cell_type": "code",
   "execution_count": 1,
   "metadata": {},
   "outputs": [],
   "source": [
    "import numpy as np\n",
    "from feature_selection import (construct_mutual_info_relevance_vector, \n",
    "                               construct_pearson_corr_relevance_vector,\n",
    "                               construct_mutual_info_redundancy_matrix,\n",
    "                               construct_pearson_corr_redundancy_matrix,\n",
    "                               quadratic_programming_feature_selection,\n",
    "                               greedy_mrmr_feature_selection,\n",
    "                               generate_reduced_quadratic_program_with_qpfs)"
   ]
  },
  {
   "cell_type": "code",
   "execution_count": 2,
   "metadata": {
    "scrolled": true
   },
   "outputs": [
    {
     "name": "stdout",
     "output_type": "stream",
     "text": [
      "[[-0.84 -1.05 -1.28 ... -0.97  1.28  1.6 ]\n",
      " [-1.19 -1.19 -1.1  ... -0.97 -1.07  1.29]\n",
      " [-0.95 -1.03 -1.07 ... -0.98  0.48 -1.33]\n",
      " ...\n",
      " [ 1.04  1.13  0.75 ...  0.88 -0.86  1.11]\n",
      " [ 1.2   1.02  1.03 ...  1.08 -1.27  0.12]\n",
      " [ 1.19  0.81  0.52 ...  0.39 -1.28 -0.06]]\n",
      "[0 0 0 0 0 0 0 0 0 0 0 0 0 0 0 0 0 0 0 0 0 0 0 0 0 0 0 0 0 0 0 0 0 0 0 0 0\n",
      " 0 0 0 0 0 0 0 0 0 0 0 0 0 0 0 0 0 0 0 0 0 0 0 0 0 0 0 0 0 0 0 0 0 0 0 0 0\n",
      " 0 0 0 0 0 0 0 0 0 0 0 0 0 0 0 0 0 0 0 0 0 0 0 0 0 0 1 1 1 1 1 1 1 1 1 1 1\n",
      " 1 1 1 1 1 1 1 1 1 1 1 1 1 1 1 1 1 1 1 1 1 1 1 1 1 1 1 1 1 1 1 1 1 1 1 1 1\n",
      " 1 1 1 1 1 1 1 1 1 1 1 1 1 1 1 1 1 1 1 1 1 1 1 1 1 1 1 1 1 1 1 1 1 1 1 1 1\n",
      " 1 1 1 1 1 1 1 1 1 1 1 1 1 1 1]\n"
     ]
    }
   ],
   "source": [
    "## Create the random instance\n",
    "num_data_points = 100\n",
    "radius = 1.0\n",
    "d = 3\n",
    "\n",
    "num_chosen_features = d\n",
    "\n",
    "# feature vector i: (x_i, y_i, z_i, sin(x_i), y_i**2)\n",
    "# two balls: (0, 0, 0, radius=1.0), (10.0, 10.0, 10.0, r=1.0)\n",
    "centers = np.array([[0.0]*d, [10.0]*d])\n",
    "noise = np.random.normal(0.0, radius, size=(num_data_points, d))\n",
    "X = np.vstack([noise + centers[0], noise + centers[1]])\n",
    "sin_x = np.expand_dims(np.sin(X[:, 0]), axis=1)\n",
    "y2 = np.expand_dims(X[:, 1]**2, axis=1)\n",
    "yz = np.expand_dims(X[:, 1]*X[:, 2], axis=1)\n",
    "w = np.random.uniform(0.0, 1.0, size=(num_data_points*2, 1))\n",
    "X = np.hstack([X, y2, yz, sin_x, w])\n",
    "\n",
    "column_std = np.std(X, axis=0)\n",
    "column_mean = np.mean(X, axis=0)\n",
    "X = (X - column_mean[np.newaxis, :]) / column_std[np.newaxis, :]\n",
    "\n",
    "X = np.round(X, decimals=2)\n",
    "y = np.array([0]*num_data_points + [1]*num_data_points)\n",
    "\n",
    "print(X)\n",
    "print(y)"
   ]
  },
  {
   "cell_type": "code",
   "execution_count": 3,
   "metadata": {},
   "outputs": [],
   "source": [
    "# X = np.array([[-0.8,  -1.04,  0.53, -0.72],\n",
    "#             [ 1.13, -0.69, -1.06,  0.91],\n",
    "#             [ 2.01,  0.41, -0.53,  0.9 ],\n",
    "#             [-0.28,  0.04, -0.71, -0.28],\n",
    "#             [-0.86, -0.87, -0.39, -0.76],\n",
    "#             [ 1.1,   0.6, -0.03,  0.89],\n",
    "#             [ 0.78, -0.62,  0.92,  0.71],\n",
    "#             [-1.07, -0.53,  1.39, -0.88],\n",
    "#             [ 0.08,  0.37,  0.16,  0.08],\n",
    "#             [-0.95, -1.27, -0.05, -0.81],\n",
    "#             [ 9.2,   8.96, 10.53,  0.22],\n",
    "#             [11.13,  9.31,  8.94, -0.99],\n",
    "#             [12.01, 10.41,  9.47, -0.53],\n",
    "#             [ 9.72, 10.04,  9.29, -0.29],\n",
    "#             [ 9.14,  9.13,  9.61,  0.28],\n",
    "#             [11.1,  10.6,   9.97, -0.99],\n",
    "#             [10.78,  9.38, 10.92, -0.98],\n",
    "#             [ 8.93,  9.47, 11.39,  0.48],\n",
    "#             [10.08, 10.37, 10.16, -0.61],\n",
    "#             [ 9.05,  8.73,  9.95,  0.37]])\n",
    "\n",
    "# y = np.array([0]*10+[1]*10).astype(np.int32)"
   ]
  },
  {
   "cell_type": "code",
   "execution_count": 4,
   "metadata": {},
   "outputs": [
    {
     "name": "stdout",
     "output_type": "stream",
     "text": [
      "Relevance vector based on Pearson correlation: \n",
      " [0.98397962 0.98204604 0.97402733 0.96463016 0.97754247 0.35684535\n",
      " 0.03485019]\n",
      "Redundancy matrix based on Pearson correlation: \n",
      " [[1.         0.97166238 0.9573749  0.95485702 0.9646088  0.35049551\n",
      "  0.03788575]\n",
      " [0.97166238 1.         0.95677215 0.98265617 0.97789392 0.35228556\n",
      "  0.03213269]\n",
      " [0.9573749  0.95677215 1.         0.93976027 0.97863613 0.34268924\n",
      "  0.01859781]\n",
      " [0.95485702 0.98265617 0.93976027 1.         0.97796805 0.38160228\n",
      "  0.03136601]\n",
      " [0.9646088  0.97789392 0.97863613 0.97796805 1.         0.36410594\n",
      "  0.02148089]\n",
      " [0.35049551 0.35228556 0.34268924 0.38160228 0.36410594 1.\n",
      "  0.05326469]\n",
      " [0.03788575 0.03213269 0.01859781 0.03136601 0.02148089 0.05326469\n",
      "  1.        ]]\n"
     ]
    }
   ],
   "source": [
    "f_pc = construct_pearson_corr_relevance_vector(X, y)\n",
    "Q_pc = construct_pearson_corr_redundancy_matrix(X)\n",
    "print(\"Relevance vector based on Pearson correlation: \\n {}\".format(f_pc))\n",
    "print(\"Redundancy matrix based on Pearson correlation: \\n {}\".format(Q_pc))"
   ]
  },
  {
   "cell_type": "code",
   "execution_count": 5,
   "metadata": {},
   "outputs": [
    {
     "name": "stdout",
     "output_type": "stream",
     "text": [
      "0.4507447019300367\n"
     ]
    }
   ],
   "source": [
    "bar_q_pc = np.mean(Q_pc)\n",
    "bar_f_pc = np.mean(f_pc)\n",
    "alpha_pc = bar_q_pc / (bar_q_pc + bar_f_pc)\n",
    "print(alpha_pc)"
   ]
  },
  {
   "cell_type": "code",
   "execution_count": 6,
   "metadata": {
    "scrolled": true
   },
   "outputs": [
    {
     "name": "stdout",
     "output_type": "stream",
     "text": [
      "Relevance vector based on mutual information: \n",
      " [0.69565343 0.69565343 0.69565343 0.69565343 0.69565343 0.17336299\n",
      " 0.00275323]\n",
      "Redundancy matrix based on mutual information: \n",
      " [[3.76901904 0.82621343 0.65184539 0.74846047 0.68384493 1.96771013\n",
      "  0.        ]\n",
      " [0.82621343 3.80213214 0.64765744 2.53554806 0.871391   0.17636161\n",
      "  0.        ]\n",
      " [0.65184539 0.64765744 3.81935833 0.69983857 0.90040483 0.0968675\n",
      "  0.01926582]\n",
      " [0.74846047 2.53554806 0.69983857 3.04299602 0.95734372 0.19043753\n",
      "  0.02444199]\n",
      " [0.68384493 0.871391   0.90040483 0.95734372 3.24765007 0.13269984\n",
      "  0.08043704]\n",
      " [1.96771013 0.17636161 0.0968675  0.19043753 0.13269984 3.88488809\n",
      "  0.        ]\n",
      " [0.         0.         0.01926582 0.02444199 0.08043704 0.\n",
      "  3.93661428]]\n"
     ]
    }
   ],
   "source": [
    "f_mi = construct_mutual_info_relevance_vector(X, y, seed=42)\n",
    "Q_mi = construct_mutual_info_redundancy_matrix(X, seed=42)\n",
    "print(\"Relevance vector based on mutual information: \\n {}\".format(f_mi))\n",
    "print(\"Redundancy matrix based on mutual information: \\n {}\".format(Q_mi))"
   ]
  },
  {
   "cell_type": "code",
   "execution_count": 7,
   "metadata": {},
   "outputs": [
    {
     "name": "stdout",
     "output_type": "stream",
     "text": [
      "0.6612048976950432\n"
     ]
    }
   ],
   "source": [
    "bar_q_mi = np.mean(Q_mi)\n",
    "bar_f_mi = np.mean(f_mi)\n",
    "alpha_mi = bar_q_mi / (bar_q_mi + bar_f_mi)\n",
    "print(alpha_mi)"
   ]
  },
  {
   "cell_type": "code",
   "execution_count": 8,
   "metadata": {},
   "outputs": [
    {
     "name": "stdout",
     "output_type": "stream",
     "text": [
      "     pcost       dcost       gap    pres   dres\n",
      " 0: -1.1707e+00 -1.8578e+00  1e+01  4e+00  2e+00\n",
      " 1: -7.5576e-01 -1.6365e+00  9e-01  7e-16  3e-16\n",
      " 2: -8.0363e-01 -8.4750e-01  4e-02  6e-17  2e-16\n",
      " 3: -8.3460e-01 -8.3863e-01  4e-03  1e-16  2e-16\n",
      " 4: -8.3761e-01 -8.3806e-01  4e-04  1e-16  2e-16\n",
      " 5: -8.3789e-01 -8.3789e-01  8e-06  1e-16  1e-16\n",
      " 6: -8.3789e-01 -8.3789e-01  8e-08  2e-16  1e-16\n",
      "Optimal solution found.\n",
      "Results of QPFS based on Pearson correlation:\n",
      "Chosen features: [0 1 4]\n",
      "Feature weights = [8.12196996e-01 1.87792550e-01 2.32167044e-06 4.66760010e-07\n",
      " 7.64789017e-06 1.08493466e-08 7.14563329e-09]\n"
     ]
    }
   ],
   "source": [
    "chosen_ones, feature_weights = quadratic_programming_feature_selection(Q_pc, f_pc, num_chosen_features, alpha=2.0*alpha_pc)\n",
    "print(\"Results of QPFS based on Pearson correlation:\")\n",
    "print(\"Chosen features: {}\".format(chosen_ones))\n",
    "print(\"Feature weights = {}\".format(feature_weights))"
   ]
  },
  {
   "cell_type": "code",
   "execution_count": 9,
   "metadata": {},
   "outputs": [
    {
     "name": "stdout",
     "output_type": "stream",
     "text": [
      "     pcost       dcost       gap    pres   dres\n",
      " 0: -2.0878e-01 -1.2429e+00  1e+00  2e-16  3e+00\n",
      " 1: -2.1131e-01 -2.4517e-01  3e-02  4e-17  1e-01\n",
      " 2: -2.1695e-01 -2.2031e-01  3e-03  3e-17  5e-03\n",
      " 3: -2.1807e-01 -2.1829e-01  2e-04  7e-17  1e-16\n",
      " 4: -2.1814e-01 -2.1815e-01  1e-05  9e-17  8e-17\n",
      " 5: -2.1814e-01 -2.1814e-01  2e-07  5e-17  1e-16\n",
      " 6: -2.1814e-01 -2.1814e-01  2e-09  7e-17  9e-17\n",
      "Optimal solution found.\n",
      "Results of QPFS based on mutual information:\n",
      "Chosen features: [4 0 2]\n",
      "Feature weights = [2.32883822e-01 9.29936437e-02 2.21074042e-01 2.03936799e-01\n",
      " 2.40278148e-01 1.00636821e-09 8.83354486e-03]\n"
     ]
    }
   ],
   "source": [
    "chosen_ones, feature_weights = quadratic_programming_feature_selection(Q_mi, f_mi, num_chosen_features, alpha=alpha_mi)\n",
    "print(\"Results of QPFS based on mutual information:\")\n",
    "print(\"Chosen features: {}\".format(chosen_ones))\n",
    "print(\"Feature weights = {}\".format(feature_weights))"
   ]
  },
  {
   "cell_type": "code",
   "execution_count": 10,
   "metadata": {},
   "outputs": [],
   "source": [
    "# chosen_ones, mrmr, avg_relevance, avg_redundancy = greedy_mrmr_feature_selection(Q_pc, f_pc, num_chosen_features, seed=42)\n",
    "# print(\"Results of MRMR based on Pearson correlation:\")\n",
    "# print(\"Chosen features: {}\".format(chosen_ones))\n",
    "# print(\"mRMR = {}\".format(mrmr))\n",
    "# print(\"Average relevance = {}\".format(avg_relevance))\n",
    "# print(\"Average redundancy = {}\".format(avg_redundancy))"
   ]
  },
  {
   "cell_type": "code",
   "execution_count": 11,
   "metadata": {},
   "outputs": [],
   "source": [
    "# chosen_ones, mrmr, avg_relevance, avg_redundancy = greedy_mrmr_feature_selection(Q_mi, f_mi, num_chosen_features, seed=42)\n",
    "# print(\"Results of MRMR based on mutual information:\")\n",
    "# print(\"Chosen features: {}\".format(chosen_ones))\n",
    "# print(\"mRMR = {}\".format(mrmr))\n",
    "# print(\"Average relevance = {}\".format(avg_relevance))\n",
    "# print(\"Average redundancy = {}\".format(avg_redundancy))"
   ]
  },
  {
   "cell_type": "code",
   "execution_count": 12,
   "metadata": {},
   "outputs": [],
   "source": [
    "num_active_features = 3\n",
    "num_frozen_features = 2"
   ]
  },
  {
   "cell_type": "code",
   "execution_count": 13,
   "metadata": {},
   "outputs": [
    {
     "name": "stdout",
     "output_type": "stream",
     "text": [
      "     pcost       dcost       gap    pres   dres\n",
      " 0: -1.1707e+00 -1.8578e+00  1e+01  4e+00  2e+00\n",
      " 1: -7.5576e-01 -1.6365e+00  9e-01  7e-16  3e-16\n",
      " 2: -8.0363e-01 -8.4750e-01  4e-02  6e-17  2e-16\n",
      " 3: -8.3460e-01 -8.3863e-01  4e-03  1e-16  2e-16\n",
      " 4: -8.3761e-01 -8.3806e-01  4e-04  1e-16  2e-16\n",
      " 5: -8.3789e-01 -8.3789e-01  8e-06  1e-16  1e-16\n",
      " 6: -8.3789e-01 -8.3789e-01  8e-08  2e-16  1e-16\n",
      "Optimal solution found.\n"
     ]
    },
    {
     "data": {
      "text/plain": [
       "(array([[0.0985106 , 0.09257634, 0.09634022],\n",
       "        [0.09257634, 0.0985106 , 0.09640603],\n",
       "        [0.09634022, 0.09640603, 0.0985106 ]]),\n",
       " array([-0.67873829, -0.68951155, -0.68988708]),\n",
       " -1.578121660728338,\n",
       " array([6, 5]),\n",
       " array([3, 2, 4]),\n",
       " array([1, 0]))"
      ]
     },
     "execution_count": 13,
     "metadata": {},
     "output_type": "execute_result"
    }
   ],
   "source": [
    "generate_reduced_quadratic_program_with_qpfs(Q_pc, f_pc, num_active_features, \n",
    "                                             num_frozen_features=num_frozen_features, \n",
    "                                             alpha = 2 * alpha_pc,                                             \n",
    "                                             frozen_vector_strategy=\"QUBO\")"
   ]
  },
  {
   "cell_type": "code",
   "execution_count": 14,
   "metadata": {},
   "outputs": [
    {
     "name": "stdout",
     "output_type": "stream",
     "text": [
      "     pcost       dcost       gap    pres   dres\n",
      " 0: -1.1707e+00 -1.8578e+00  1e+01  4e+00  2e+00\n",
      " 1: -7.5576e-01 -1.6365e+00  9e-01  7e-16  3e-16\n",
      " 2: -8.0363e-01 -8.4750e-01  4e-02  6e-17  2e-16\n",
      " 3: -8.3460e-01 -8.3863e-01  4e-03  1e-16  2e-16\n",
      " 4: -8.3761e-01 -8.3806e-01  4e-04  1e-16  2e-16\n",
      " 5: -8.3789e-01 -8.3789e-01  8e-06  1e-16  1e-16\n",
      " 6: -8.3789e-01 -8.3789e-01  8e-08  2e-16  1e-16\n",
      "Optimal solution found.\n"
     ]
    },
    {
     "data": {
      "text/plain": [
       "(array([[0.0985106 , 0.09257634, 0.09634022],\n",
       "        [0.09257634, 0.0985106 , 0.09640603],\n",
       "        [0.09634022, 0.09640603, 0.0985106 ]]),\n",
       " array([-0.77502705, -0.78377588, -0.78597522]),\n",
       " -0.837882096985241,\n",
       " array([6, 5]),\n",
       " array([3, 2, 4]),\n",
       " array([1, 0]))"
      ]
     },
     "execution_count": 14,
     "metadata": {},
     "output_type": "execute_result"
    }
   ],
   "source": [
    "generate_reduced_quadratic_program_with_qpfs(Q_pc, f_pc, num_active_features, \n",
    "                                             num_frozen_features=num_frozen_features, \n",
    "                                             alpha = 2 * alpha_pc,\n",
    "                                             frozen_vector_strategy=\"QPFS\")"
   ]
  },
  {
   "cell_type": "code",
   "execution_count": 15,
   "metadata": {},
   "outputs": [
    {
     "name": "stdout",
     "output_type": "stream",
     "text": [
      "     pcost       dcost       gap    pres   dres\n",
      " 0: -1.1707e+00 -1.8578e+00  1e+01  4e+00  2e+00\n",
      " 1: -7.5576e-01 -1.6365e+00  9e-01  7e-16  3e-16\n",
      " 2: -8.0363e-01 -8.4750e-01  4e-02  6e-17  2e-16\n",
      " 3: -8.3460e-01 -8.3863e-01  4e-03  1e-16  2e-16\n",
      " 4: -8.3761e-01 -8.3806e-01  4e-04  1e-16  2e-16\n",
      " 5: -8.3789e-01 -8.3789e-01  8e-06  1e-16  1e-16\n",
      " 6: -8.3789e-01 -8.3789e-01  8e-08  2e-16  1e-16\n",
      "Optimal solution found.\n"
     ]
    },
    {
     "data": {
      "text/plain": [
       "(array([[0.0985106 , 0.09257634, 0.09634022],\n",
       "        [0.09257634, 0.0985106 , 0.09640603],\n",
       "        [0.09634022, 0.09640603, 0.0985106 ]]),\n",
       " array([-0.77417208, -0.78379442, -0.78556663]),\n",
       " -0.8376099903326558,\n",
       " array([6, 5]),\n",
       " array([3, 2, 4]),\n",
       " array([1, 0]))"
      ]
     },
     "execution_count": 15,
     "metadata": {},
     "output_type": "execute_result"
    }
   ],
   "source": [
    "generate_reduced_quadratic_program_with_qpfs(Q_pc, f_pc, num_active_features, \n",
    "                                             num_frozen_features=num_frozen_features, \n",
    "                                             alpha = 2 * alpha_pc,                                             \n",
    "                                             frozen_vector_strategy=\"hybrid\")"
   ]
  },
  {
   "cell_type": "code",
   "execution_count": 16,
   "metadata": {},
   "outputs": [
    {
     "name": "stdout",
     "output_type": "stream",
     "text": [
      "     pcost       dcost       gap    pres   dres\n",
      " 0: -2.0878e-01 -1.2429e+00  1e+00  2e-16  3e+00\n",
      " 1: -2.1131e-01 -2.4517e-01  3e-02  4e-17  1e-01\n",
      " 2: -2.1695e-01 -2.2031e-01  3e-03  3e-17  5e-03\n",
      " 3: -2.1807e-01 -2.1829e-01  2e-04  7e-17  1e-16\n",
      " 4: -2.1814e-01 -2.1815e-01  1e-05  9e-17  8e-17\n",
      " 5: -2.1814e-01 -2.1814e-01  2e-07  5e-17  1e-16\n",
      " 6: -2.1814e-01 -2.1814e-01  2e-09  7e-17  9e-17\n",
      "Optimal solution found.\n"
     ]
    },
    {
     "data": {
      "text/plain": [
       "(array([[1.28814375, 0.85903127, 0.21942317],\n",
       "        [0.85903127, 1.03095215, 0.23710188],\n",
       "        [0.21942317, 0.23710188, 1.2939799 ]]),\n",
       " array([0.11517061, 0.11794865, 0.06592532]),\n",
       " 0.5003509682609599,\n",
       " array([5, 6]),\n",
       " array([1, 3, 2]),\n",
       " array([0, 4]))"
      ]
     },
     "execution_count": 16,
     "metadata": {},
     "output_type": "execute_result"
    }
   ],
   "source": [
    "generate_reduced_quadratic_program_with_qpfs(Q_mi, f_mi, num_active_features, \n",
    "                                             num_frozen_features=num_frozen_features, \n",
    "                                             alpha = alpha_mi,\n",
    "                                             frozen_vector_strategy=\"QUBO\")"
   ]
  },
  {
   "cell_type": "code",
   "execution_count": 17,
   "metadata": {},
   "outputs": [
    {
     "name": "stdout",
     "output_type": "stream",
     "text": [
      "     pcost       dcost       gap    pres   dres\n",
      " 0: -2.0878e-01 -1.2429e+00  1e+00  2e-16  3e+00\n",
      " 1: -2.1131e-01 -2.4517e-01  3e-02  4e-17  1e-01\n",
      " 2: -2.1695e-01 -2.2031e-01  3e-03  3e-17  5e-03\n",
      " 3: -2.1807e-01 -2.1829e-01  2e-04  7e-17  1e-16\n",
      " 4: -2.1814e-01 -2.1815e-01  1e-05  9e-17  8e-17\n",
      " 5: -2.1814e-01 -2.1814e-01  2e-07  5e-17  1e-16\n",
      " 6: -2.1814e-01 -2.1814e-01  2e-09  7e-17  9e-17\n",
      "Optimal solution found.\n"
     ]
    },
    {
     "data": {
      "text/plain": [
       "(array([[1.28814375, 0.85903127, 0.21942317],\n",
       "        [0.85903127, 1.03095215, 0.23710188],\n",
       "        [0.21942317, 0.23710188, 1.2939799 ]]),\n",
       " array([-0.32384566, -0.32298338, -0.33524141]),\n",
       " -0.13828705084525483,\n",
       " array([5, 6]),\n",
       " array([1, 3, 2]),\n",
       " array([0, 4]))"
      ]
     },
     "execution_count": 17,
     "metadata": {},
     "output_type": "execute_result"
    }
   ],
   "source": [
    "generate_reduced_quadratic_program_with_qpfs(Q_mi, f_mi, num_active_features, \n",
    "                                             num_frozen_features=num_frozen_features, \n",
    "                                             alpha = alpha_mi,                                             \n",
    "                                             frozen_vector_strategy=\"QPFS\")"
   ]
  },
  {
   "cell_type": "code",
   "execution_count": 18,
   "metadata": {},
   "outputs": [
    {
     "name": "stdout",
     "output_type": "stream",
     "text": [
      "     pcost       dcost       gap    pres   dres\n",
      " 0: -2.0878e-01 -1.2429e+00  1e+00  2e-16  3e+00\n",
      " 1: -2.1131e-01 -2.4517e-01  3e-02  4e-17  1e-01\n",
      " 2: -2.1695e-01 -2.2031e-01  3e-03  3e-17  5e-03\n",
      " 3: -2.1807e-01 -2.1829e-01  2e-04  7e-17  1e-16\n",
      " 4: -2.1814e-01 -2.1815e-01  1e-05  9e-17  8e-17\n",
      " 5: -2.1814e-01 -2.1814e-01  2e-07  5e-17  1e-16\n",
      " 6: -2.1814e-01 -2.1814e-01  2e-09  7e-17  9e-17\n",
      "Optimal solution found.\n"
     ]
    },
    {
     "data": {
      "text/plain": [
       "(array([[1.28814375, 0.85903127, 0.21942317],\n",
       "        [0.85903127, 1.03095215, 0.23710188],\n",
       "        [0.21942317, 0.23710188, 1.2939799 ]]),\n",
       " array([-0.32390225, -0.32324502, -0.33555275]),\n",
       " -0.13814563024677667,\n",
       " array([5, 6]),\n",
       " array([1, 3, 2]),\n",
       " array([0, 4]))"
      ]
     },
     "execution_count": 18,
     "metadata": {},
     "output_type": "execute_result"
    }
   ],
   "source": [
    "generate_reduced_quadratic_program_with_qpfs(Q_mi, f_mi, num_active_features, \n",
    "                                             num_frozen_features=num_frozen_features, \n",
    "                                             alpha = alpha_mi,                                             \n",
    "                                             frozen_vector_strategy=\"hybrid\")"
   ]
  },
  {
   "cell_type": "code",
   "execution_count": 20,
   "metadata": {},
   "outputs": [],
   "source": [
    "# from feature_selection_test import *\n",
    "# test_construct_mutual_info_relevance_vector()\n",
    "# test_construct_pearson_corr_relevance_vector()\n",
    "# test_construct_mutual_info_redundancy_matrix()\n",
    "# test_construct_pearson_corr_redundancy_matrix()\n",
    "# test_quadratic_programming_feature_selection()\n",
    "# test_greedy_mrmr_feature_selection()"
   ]
  },
  {
   "cell_type": "code",
   "execution_count": null,
   "metadata": {},
   "outputs": [],
   "source": []
  },
  {
   "cell_type": "code",
   "execution_count": null,
   "metadata": {},
   "outputs": [],
   "source": []
  }
 ],
 "metadata": {
  "kernelspec": {
   "display_name": "Python 3",
   "language": "python",
   "name": "python3"
  },
  "language_info": {
   "codemirror_mode": {
    "name": "ipython",
    "version": 3
   },
   "file_extension": ".py",
   "mimetype": "text/x-python",
   "name": "python",
   "nbconvert_exporter": "python",
   "pygments_lexer": "ipython3",
   "version": "3.7.3"
  }
 },
 "nbformat": 4,
 "nbformat_minor": 2
}
