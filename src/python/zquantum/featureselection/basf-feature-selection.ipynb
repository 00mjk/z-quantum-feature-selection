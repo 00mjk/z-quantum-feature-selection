{
 "cells": [
  {
   "cell_type": "code",
   "execution_count": 1,
   "metadata": {},
   "outputs": [],
   "source": [
    "import numpy as np\n",
    "import pandas as pd"
   ]
  },
  {
   "cell_type": "code",
   "execution_count": 2,
   "metadata": {},
   "outputs": [],
   "source": [
    "from feature_selection import (construct_mutual_info_relevance_vector, \n",
    "                               construct_pearson_corr_relevance_vector,\n",
    "                               construct_mutual_info_redundancy_matrix,\n",
    "                               construct_pearson_corr_redundancy_matrix,\n",
    "                               quadratic_programming_feature_selection,\n",
    "                               greedy_mrmr_feature_selection,\n",
    "                               generate_reduced_quadratic_program_with_qpfs)                              "
   ]
  },
  {
   "cell_type": "code",
   "execution_count": 3,
   "metadata": {},
   "outputs": [],
   "source": [
    "feature_data = pd.read_csv(\"/Users/guomingwang/Desktop/BASF/dataset/df.csv\", header=\"infer\")\n",
    "label_data = pd.read_csv(\"/Users/guomingwang/Desktop/BASF/dataset/Y.csv\", header=\"infer\")\n",
    "# print(feature_data)\n",
    "# print(label_data)"
   ]
  },
  {
   "cell_type": "code",
   "execution_count": 4,
   "metadata": {},
   "outputs": [],
   "source": [
    "all_data = feature_data.join(label_data.set_index('id'), on='id')\n",
    "# print(all_data)"
   ]
  },
  {
   "cell_type": "code",
   "execution_count": 5,
   "metadata": {},
   "outputs": [
    {
     "data": {
      "text/plain": [
       "{'Gas': 0, 'VOC with high vp': 1, 'VOC with low vp': 2}"
      ]
     },
     "execution_count": 5,
     "metadata": {},
     "output_type": "execute_result"
    }
   ],
   "source": [
    "index_to_label = list(sorted(set(all_data['class_vp'])))\n",
    "label_to_index = {label:i for i, label in enumerate(index_to_label)}\n",
    "label_to_index"
   ]
  },
  {
   "cell_type": "code",
   "execution_count": 6,
   "metadata": {},
   "outputs": [],
   "source": [
    "class_id = all_data['class_vp'].apply(lambda x: label_to_index[x])\n",
    "all_data.insert(len(all_data.columns), 'class_id', class_id)\n",
    "# print(all_data)"
   ]
  },
  {
   "cell_type": "code",
   "execution_count": 7,
   "metadata": {},
   "outputs": [],
   "source": [
    "X = all_data.values[:, :-4].astype(np.float32)\n",
    "y = all_data.values[:, -1].astype(np.int32)\n",
    "# print(X)\n",
    "# print(y)"
   ]
  },
  {
   "cell_type": "code",
   "execution_count": 8,
   "metadata": {},
   "outputs": [],
   "source": [
    "f_mi = construct_mutual_info_relevance_vector(X, y)\n",
    "Q_mi = construct_mutual_info_redundancy_matrix(X)"
   ]
  },
  {
   "cell_type": "code",
   "execution_count": 9,
   "metadata": {},
   "outputs": [],
   "source": [
    "f_pc = construct_pearson_corr_relevance_vector(X, y)\n",
    "Q_pc = construct_pearson_corr_redundancy_matrix(X)"
   ]
  },
  {
   "cell_type": "code",
   "execution_count": 10,
   "metadata": {},
   "outputs": [],
   "source": [
    "# num_of_chosen_features = 10"
   ]
  },
  {
   "cell_type": "code",
   "execution_count": 11,
   "metadata": {},
   "outputs": [],
   "source": [
    "# qpfs_chosen_ones_mi, qpfs_feature_weights_mi = quadratic_programming_feature_selection(Q_all_mi, f_all_mi, num_of_chosen_features)\n",
    "# print(qpfs_chosen_ones_mi)\n",
    "# print(qpfs_feature_weights_mi)"
   ]
  },
  {
   "cell_type": "code",
   "execution_count": 12,
   "metadata": {},
   "outputs": [],
   "source": [
    "# qpfs_chosen_ones_pc, qpfs_feature_weights_pc = quadratic_programming_feature_selection(Q_all_pc, f_all_pc, num_of_chosen_features)\n",
    "# print(qpfs_chosen_ones_pc)\n",
    "# print(qpfs_feature_weights_pc)"
   ]
  },
  {
   "cell_type": "code",
   "execution_count": 13,
   "metadata": {},
   "outputs": [],
   "source": [
    "# mrmr_chosen_ones_mi, _, _, _ = greedy_mrmr_feature_selection(Q_all_mi, f_all_mi, num_of_chosen_features)\n",
    "# print(mrmr_chosen_ones_mi)"
   ]
  },
  {
   "cell_type": "code",
   "execution_count": 14,
   "metadata": {},
   "outputs": [],
   "source": [
    "# mrmr_chosen_ones_pc, _, _, _ = greedy_mrmr_feature_selection(Q_all_pc, f_all_pc, num_of_chosen_features)\n",
    "# print(mrmr_chosen_ones_pc)"
   ]
  },
  {
   "cell_type": "code",
   "execution_count": 15,
   "metadata": {},
   "outputs": [
    {
     "name": "stdout",
     "output_type": "stream",
     "text": [
      "0.625011598376353\n"
     ]
    }
   ],
   "source": [
    "bar_q_mi = np.mean(Q_mi)\n",
    "bar_f_mi = np.mean(f_mi)\n",
    "alpha_mi = bar_q_mi / (bar_q_mi + bar_f_mi)\n",
    "print(alpha_mi)"
   ]
  },
  {
   "cell_type": "code",
   "execution_count": 16,
   "metadata": {},
   "outputs": [
    {
     "name": "stdout",
     "output_type": "stream",
     "text": [
      "0.5475865536593721\n"
     ]
    }
   ],
   "source": [
    "bar_q_pc = np.mean(Q_pc)\n",
    "bar_f_pc = np.mean(f_pc)\n",
    "alpha_pc = bar_q_pc / (bar_q_pc + bar_f_pc)\n",
    "print(alpha_pc)"
   ]
  },
  {
   "cell_type": "code",
   "execution_count": 17,
   "metadata": {},
   "outputs": [],
   "source": [
    "num_frozen_features = 12\n",
    "num_active_features = 8\n",
    "frozen_vector_strategy = \"hybrid\""
   ]
  },
  {
   "cell_type": "code",
   "execution_count": 46,
   "metadata": {},
   "outputs": [],
   "source": [
    "# generate_reduced_quadratic_program_with_qpfs(Q_mi, f_mi, num_active_features, \n",
    "#                                              num_frozen_features=num_frozen_features, \n",
    "#                                              alpha = 1.5 * alpha_mi,                                             \n",
    "#                                              frozen_vector_strategy=frozen_vector_strategy) "
   ]
  },
  {
   "cell_type": "code",
   "execution_count": 45,
   "metadata": {},
   "outputs": [],
   "source": [
    "# generate_reduced_quadratic_program_with_qpfs(Q_pc, f_pc, num_active_features, \n",
    "#                                              num_frozen_features=num_frozen_features, \n",
    "#                                              alpha = 1.5 * alpha_pc,                                             \n",
    "#                                              frozen_vector_strategy=frozen_vector_strategy)"
   ]
  },
  {
   "cell_type": "code",
   "execution_count": 24,
   "metadata": {},
   "outputs": [],
   "source": [
    "def get_bin(x, n=0):\n",
    "    b = format(x, 'b').zfill(n)\n",
    "    return np.array([int(a) for a in b])"
   ]
  },
  {
   "cell_type": "code",
   "execution_count": 32,
   "metadata": {},
   "outputs": [],
   "source": [
    "def solve_qubo_by_brute_force(Q, v):\n",
    "    d = len(v)\n",
    "    opt_sol = None\n",
    "    opt_val = None\n",
    "    f = lambda x: 0.5 * np.dot(x, np.dot(Q, x)) + np.dot(v, x)\n",
    "    for i in range(2**d):\n",
    "        x = get_bin(i, n=d)\n",
    "        if opt_val is None or f(x) < opt_val:\n",
    "            opt_sol = x\n",
    "            opt_val = f(x)\n",
    "    return opt_sol, opt_val"
   ]
  },
  {
   "cell_type": "code",
   "execution_count": 33,
   "metadata": {},
   "outputs": [],
   "source": [
    "# d = 10\n",
    "# Q = np.random.uniform(0.0, 1.0, size=(d, d))\n",
    "# f = np.random.uniform(0.0, 1.0, size=(d))\n",
    "# solve_qubo_by_brute_force(Q, f)"
   ]
  },
  {
   "cell_type": "code",
   "execution_count": 34,
   "metadata": {},
   "outputs": [],
   "source": [
    "def generate_reduced_quadratic_program_with_qpfs_for_alphas(Q, f, num_active_features, \n",
    "                                                             num_frozen_features=0, \n",
    "                                                             alphas=[],                                             \n",
    "                                                             frozen_vector_strategy=\"QPFS\"):\n",
    "    \n",
    "    for alpha in alphas:\n",
    "        print(\"alpha = {}\".format(alpha))\n",
    "        Q1, f1, c1, df, af, ff = generate_reduced_quadratic_program_with_qpfs(Q, f, num_active_features, \n",
    "                                                 num_frozen_features=num_frozen_features,\n",
    "                                                 alpha=alpha,\n",
    "                                                 frozen_vector_strategy=frozen_vector_strategy)\n",
    "        opt_sol, opt_val = solve_qubo_by_brute_force(Q1, f1)\n",
    "        print(\"opt sol = {}\".format(opt_sol)) "
   ]
  },
  {
   "cell_type": "code",
   "execution_count": 53,
   "metadata": {},
   "outputs": [
    {
     "name": "stdout",
     "output_type": "stream",
     "text": [
      "alpha = 0.625011598376353\n",
      "     pcost       dcost       gap    pres   dres\n",
      " 0: -2.0087e-01 -1.3379e+00  1e+02  1e+01  9e+00\n",
      " 1: -1.4070e-01 -1.2682e+00  3e+00  1e-01  1e-01\n",
      " 2: -1.2169e-01 -4.9698e-01  4e-01  2e-03  1e-03\n",
      " 3: -1.7700e-01 -3.0108e-01  1e-01  6e-17  6e-16\n",
      " 4: -1.8935e-01 -2.1983e-01  3e-02  2e-16  3e-16\n",
      " 5: -1.9602e-01 -2.0561e-01  1e-02  2e-17  3e-16\n",
      " 6: -1.9957e-01 -2.0154e-01  2e-03  2e-16  5e-16\n",
      " 7: -2.0046e-01 -2.0075e-01  3e-04  6e-17  4e-16\n",
      " 8: -2.0063e-01 -2.0064e-01  1e-05  6e-17  2e-16\n",
      " 9: -2.0063e-01 -2.0063e-01  5e-07  2e-16  4e-16\n",
      "10: -2.0063e-01 -2.0063e-01  3e-08  2e-16  4e-16\n",
      "Optimal solution found.\n",
      "opt sol = [0 0 0 0 0 0 0 0 0 0 0 0 0 0 0 0]\n",
      "alpha = 0.6437610184575353\n",
      "     pcost       dcost       gap    pres   dres\n",
      " 0: -2.2217e-01 -1.3629e+00  1e+02  1e+01  8e+00\n",
      " 1: -1.5370e-01 -1.2884e+00  3e+00  1e-01  1e-01\n",
      " 2: -1.3310e-01 -5.2079e-01  4e-01  2e-03  2e-03\n",
      " 3: -1.9485e-01 -3.2657e-01  1e-01  6e-17  7e-16\n",
      " 4: -2.0875e-01 -2.4311e-01  3e-02  4e-16  7e-16\n",
      " 5: -2.1636e-01 -2.2603e-01  1e-02  2e-16  3e-16\n",
      " 6: -2.2005e-01 -2.2255e-01  3e-03  2e-16  3e-16\n",
      " 7: -2.2115e-01 -2.2147e-01  3e-04  6e-17  4e-16\n",
      " 8: -2.2134e-01 -2.2135e-01  1e-05  3e-17  3e-16\n",
      " 9: -2.2135e-01 -2.2135e-01  5e-07  7e-17  5e-16\n",
      "10: -2.2135e-01 -2.2135e-01  3e-08  1e-16  3e-16\n",
      "Optimal solution found.\n",
      "opt sol = [0 0 0 0 0 0 0 0 0 0 0 0 0 0 0 0]\n",
      "alpha = 0.6625104385387177\n",
      "     pcost       dcost       gap    pres   dres\n",
      " 0: -2.4545e-01 -1.3893e+00  1e+02  1e+01  8e+00\n",
      " 1: -1.6723e-01 -1.3094e+00  3e+00  1e-01  1e-01\n",
      " 2: -1.4487e-01 -5.4511e-01  4e-01  3e-03  2e-03\n",
      " 3: -2.1381e-01 -3.5359e-01  1e-01  2e-16  7e-16\n",
      " 4: -2.2955e-01 -2.6738e-01  4e-02  6e-17  5e-16\n",
      " 5: -2.3881e-01 -2.4709e-01  8e-03  2e-17  6e-16\n",
      " 6: -2.4266e-01 -2.4461e-01  2e-03  1e-16  4e-16\n",
      " 7: -2.4363e-01 -2.4374e-01  1e-04  6e-17  7e-16\n",
      " 8: -2.4371e-01 -2.4371e-01  3e-06  3e-17  3e-16\n",
      " 9: -2.4371e-01 -2.4371e-01  8e-08  3e-17  3e-16\n",
      "Optimal solution found.\n",
      "opt sol = [0 0 0 0 0 0 0 0 0 0 0 0 0 0 0 0]\n",
      "alpha = 0.6812598586199\n",
      "     pcost       dcost       gap    pres   dres\n",
      " 0: -2.7097e-01 -1.4171e+00  1e+02  1e+01  8e+00\n",
      " 1: -1.8126e-01 -1.3312e+00  3e+00  1e-01  1e-01\n",
      " 2: -1.5695e-01 -5.7007e-01  4e-01  4e-03  3e-03\n",
      " 3: -2.3396e-01 -3.8237e-01  1e-01  2e-16  6e-16\n",
      " 4: -2.5174e-01 -2.9385e-01  4e-02  2e-16  4e-16\n",
      " 5: -2.6159e-01 -2.7356e-01  1e-02  2e-17  3e-16\n",
      " 6: -2.6579e-01 -2.6910e-01  3e-03  1e-16  3e-16\n",
      " 7: -2.6740e-01 -2.6811e-01  7e-04  2e-16  2e-16\n",
      " 8: -2.6785e-01 -2.6787e-01  2e-05  4e-17  3e-16\n",
      " 9: -2.6786e-01 -2.6786e-01  4e-07  2e-16  3e-16\n",
      "10: -2.6786e-01 -2.6786e-01  5e-09  2e-16  3e-16\n",
      "Optimal solution found.\n",
      "opt sol = [0 0 0 0 0 0 0 0 0 0 0 0 0 0 0 0]\n",
      "alpha = 0.7000092787010824\n",
      "     pcost       dcost       gap    pres   dres\n",
      " 0: -2.9905e-01 -1.4463e+00  1e+02  1e+01  8e+00\n",
      " 1: -1.9576e-01 -1.3540e+00  3e+00  1e-01  1e-01\n",
      " 2: -1.6921e-01 -5.9581e-01  4e-01  4e-03  3e-03\n",
      " 3: -2.5540e-01 -4.1321e-01  2e-01  1e-17  7e-16\n",
      " 4: -2.7502e-01 -3.2528e-01  5e-02  1e-17  5e-16\n",
      " 5: -2.8641e-01 -3.0169e-01  2e-02  2e-17  3e-16\n",
      " 6: -2.9215e-01 -2.9513e-01  3e-03  2e-16  3e-16\n",
      " 7: -2.9382e-01 -2.9422e-01  4e-04  1e-16  4e-16\n",
      " 8: -2.9409e-01 -2.9410e-01  2e-05  1e-16  3e-16\n",
      " 9: -2.9410e-01 -2.9410e-01  4e-07  2e-16  5e-16\n",
      "10: -2.9410e-01 -2.9410e-01  3e-08  2e-16  5e-16\n",
      "Optimal solution found.\n",
      "opt sol = [0 0 0 0 0 0 0 0 0 0 0 0 0 0 0 0]\n",
      "alpha = 0.7187586987822647\n",
      "     pcost       dcost       gap    pres   dres\n",
      " 0: -3.3004e-01 -1.4772e+00  1e+02  1e+01  8e+00\n",
      " 1: -2.1067e-01 -1.3778e+00  3e+00  1e-01  1e-01\n",
      " 2: -1.8200e-01 -6.2187e-01  5e-01  5e-03  4e-03\n",
      " 3: -2.7827e-01 -4.4564e-01  2e-01  1e-17  6e-16\n",
      " 4: -3.0037e-01 -3.5738e-01  6e-02  6e-17  4e-16\n",
      " 5: -3.1417e-01 -3.3001e-01  2e-02  2e-16  4e-16\n",
      " 6: -3.2016e-01 -3.2434e-01  4e-03  3e-17  6e-16\n",
      " 7: -3.2224e-01 -3.2291e-01  7e-04  1e-16  6e-16\n",
      " 8: -3.2264e-01 -3.2274e-01  1e-04  1e-16  3e-16\n",
      " 9: -3.2272e-01 -3.2272e-01  3e-06  1e-16  3e-16\n",
      "10: -3.2272e-01 -3.2272e-01  1e-07  3e-17  4e-16\n",
      "Optimal solution found.\n",
      "opt sol = [0 0 0 0 0 0 0 0 0 0 0 0 0 0 0 0]\n",
      "alpha = 0.7375081188634471\n",
      "     pcost       dcost       gap    pres   dres\n",
      " 0: -3.6439e-01 -1.5097e+00  1e+02  1e+01  8e+00\n",
      " 1: -2.2594e-01 -1.4027e+00  3e+00  1e-01  1e-01\n",
      " 2: -1.9534e-01 -6.4827e-01  5e-01  6e-03  4e-03\n",
      " 3: -3.0270e-01 -4.7977e-01  2e-01  6e-17  7e-16\n",
      " 4: -3.2826e-01 -3.9017e-01  6e-02  2e-16  5e-16\n",
      " 5: -3.4497e-01 -3.5938e-01  1e-02  1e-16  6e-16\n",
      " 6: -3.5127e-01 -3.5568e-01  4e-03  3e-16  4e-16\n",
      " 7: -3.5344e-01 -3.5418e-01  7e-04  1e-16  4e-16\n",
      " 8: -3.5395e-01 -3.5398e-01  3e-05  1e-16  4e-16\n",
      " 9: -3.5397e-01 -3.5397e-01  5e-07  2e-17  4e-16\n",
      "10: -3.5397e-01 -3.5397e-01  5e-09  1e-16  4e-16\n",
      "Optimal solution found.\n",
      "opt sol = [0 0 0 0 0 0 0 0 0 0 0 0 0 0 0 0]\n",
      "alpha = 0.7562575389446294\n",
      "     pcost       dcost       gap    pres   dres\n",
      " 0: -4.0263e-01 -1.5441e+00  1e+02  1e+01  8e+00\n",
      " 1: -2.4144e-01 -1.4288e+00  3e+00  1e-01  1e-01\n",
      " 2: -2.0875e-01 -6.7562e-01  5e-01  7e-03  5e-03\n",
      " 3: -3.2878e-01 -5.1649e-01  2e-01  1e-16  7e-16\n",
      " 4: -3.5927e-01 -4.2392e-01  6e-02  1e-16  6e-16\n",
      " 5: -3.7709e-01 -3.9477e-01  2e-02  1e-16  4e-16\n",
      " 6: -3.8490e-01 -3.8939e-01  4e-03  2e-16  3e-16\n",
      " 7: -3.8781e-01 -3.8826e-01  5e-04  2e-16  4e-16\n",
      " 8: -3.8818e-01 -3.8819e-01  1e-05  1e-16  4e-16\n",
      " 9: -3.8819e-01 -3.8819e-01  3e-07  6e-17  3e-16\n",
      "Optimal solution found.\n",
      "opt sol = [0 0 0 0 0 0 0 0 0 0 0 0 0 0 0 0]\n",
      "alpha = 0.7750069590258117\n",
      "     pcost       dcost       gap    pres   dres\n",
      " 0: -4.4542e-01 -1.5805e+00  1e+02  1e+01  8e+00\n",
      " 1: -2.5702e-01 -1.4563e+00  3e+00  1e-01  1e-01\n",
      " 2: -2.2227e-01 -7.0376e-01  5e-01  8e-03  6e-03\n",
      " 3: -3.5665e-01 -5.5578e-01  2e-01  2e-16  7e-16\n",
      " 4: -3.9423e-01 -4.5872e-01  6e-02  1e-16  6e-16\n",
      " 5: -4.1243e-01 -4.3364e-01  2e-02  2e-16  5e-16\n",
      " 6: -4.2157e-01 -4.2703e-01  5e-03  1e-16  3e-16\n",
      " 7: -4.2464e-01 -4.2582e-01  1e-03  2e-16  4e-16\n",
      " 8: -4.2559e-01 -4.2562e-01  3e-05  3e-17  4e-16\n",
      " 9: -4.2561e-01 -4.2562e-01  8e-07  1e-16  4e-16\n",
      "10: -4.2562e-01 -4.2562e-01  5e-08  1e-16  4e-16\n",
      "Optimal solution found.\n",
      "opt sol = [0 0 0 0 0 0 0 0 0 0 0 0 0 0 0 0]\n",
      "alpha = 0.7937563791069941\n",
      "     pcost       dcost       gap    pres   dres\n",
      " 0: -4.9356e-01 -1.6189e+00  1e+02  1e+01  8e+00\n",
      " 1: -2.7243e-01 -1.4853e+00  3e+00  1e-01  1e-01\n",
      " 2: -2.3623e-01 -7.3238e-01  6e-01  9e-03  7e-03\n",
      " 3: -3.8644e-01 -5.9724e-01  2e-01  4e-16  6e-16\n",
      " 4: -4.3416e-01 -4.9444e-01  6e-02  1e-16  6e-16\n",
      " 5: -4.5224e-01 -4.7566e-01  2e-02  1e-16  4e-16\n",
      " 6: -4.6264e-01 -4.6816e-01  6e-03  2e-16  4e-16\n",
      " 7: -4.6630e-01 -4.6689e-01  6e-04  2e-16  4e-16\n",
      " 8: -4.6681e-01 -4.6684e-01  2e-05  2e-16  4e-16\n",
      " 9: -4.6684e-01 -4.6684e-01  2e-07  3e-17  3e-16\n",
      "Optimal solution found.\n",
      "opt sol = [0 0 0 0 0 0 0 0 0 0 0 0 0 0 0 0]\n",
      "alpha = 0.8125057991881766\n",
      "     pcost       dcost       gap    pres   dres\n",
      " 0: -5.4807e-01 -1.6594e+00  2e+02  1e+01  8e+00\n",
      " 1: -2.8732e-01 -1.5160e+00  3e+00  1e-01  1e-01\n",
      " 2: -2.5064e-01 -7.6153e-01  6e-01  1e-02  8e-03\n",
      " 3: -4.1822e-01 -6.4099e-01  2e-01  4e-16  7e-16\n",
      " 4: -4.8056e-01 -5.3140e-01  5e-02  1e-16  7e-16\n",
      " 5: -4.9782e-01 -5.2053e-01  2e-02  2e-16  4e-16\n",
      " 6: -5.0716e-01 -5.1393e-01  7e-03  1e-17  3e-16\n",
      " 7: -5.1139e-01 -5.1234e-01  1e-03  1e-16  4e-16\n",
      " 8: -5.1225e-01 -5.1226e-01  2e-05  2e-17  4e-16\n",
      " 9: -5.1226e-01 -5.1226e-01  2e-07  3e-16  5e-16\n",
      "Optimal solution found.\n",
      "opt sol = [0 0 0 0 0 0 0 0 0 0 0 0 0 0 0 0]\n",
      "alpha = 0.8312552192693589\n",
      "     pcost       dcost       gap    pres   dres\n",
      " 0: -6.1023e-01 -1.7023e+00  2e+02  1e+01  8e+00\n",
      " 1: -3.0124e-01 -1.5488e+00  3e+00  1e-01  1e-01\n",
      " 2: -2.6543e-01 -7.9128e-01  6e-01  1e-02  9e-03\n",
      " 3: -4.5203e-01 -6.8717e-01  2e-01  2e-16  8e-16\n",
      " 4: -5.3542e-01 -5.6965e-01  3e-02  2e-16  9e-16\n",
      " 5: -5.5096e-01 -5.6710e-01  2e-02  1e-16  4e-16\n",
      " 6: -5.6114e-01 -5.6209e-01  1e-03  2e-16  5e-16\n",
      " 7: -5.6202e-01 -5.6203e-01  2e-05  2e-16  5e-16\n",
      " 8: -5.6203e-01 -5.6203e-01  2e-07  2e-16  5e-16\n",
      "Optimal solution found.\n",
      "opt sol = [0 0 0 0 0 0 0 0 0 0 0 0 0 0 0 0]\n",
      "alpha = 0.8500046393505412\n",
      "     pcost       dcost       gap    pres   dres\n",
      " 0: -6.8172e-01 -1.7474e+00  2e+02  1e+01  8e+00\n",
      " 1: -3.1360e-01 -1.5838e+00  3e+00  1e-01  1e-01\n",
      " 2: -2.7993e-01 -8.2199e-01  6e-01  1e-02  1e-02\n",
      " 3: -4.8783e-01 -7.3664e-01  2e-01  1e-17  8e-16\n",
      " 4: -5.9077e-01 -6.2121e-01  3e-02  2e-16  9e-16\n",
      " 5: -6.0772e-01 -6.1649e-01  9e-03  1e-16  5e-16\n",
      " 6: -6.1422e-01 -6.1585e-01  2e-03  2e-16  6e-16\n",
      " 7: -6.1573e-01 -6.1575e-01  2e-05  1e-16  5e-16\n",
      " 8: -6.1575e-01 -6.1575e-01  2e-07  1e-16  5e-16\n",
      "Optimal solution found.\n"
     ]
    },
    {
     "name": "stdout",
     "output_type": "stream",
     "text": [
      "opt sol = [0 0 0 0 0 0 0 0 0 0 0 0 0 0 0 0]\n",
      "alpha = 0.8687540594317236\n",
      "     pcost       dcost       gap    pres   dres\n",
      " 0: -7.6472e-01 -1.7947e+00  2e+02  1e+01  8e+00\n",
      " 1: -3.2354e-01 -1.6217e+00  3e+00  1e-01  9e-02\n",
      " 2: -2.9402e-01 -8.5358e-01  7e-01  2e-02  1e-02\n",
      " 3: -5.2546e-01 -7.8957e-01  3e-01  2e-16  7e-16\n",
      " 4: -6.4839e-01 -6.7726e-01  3e-02  1e-16  8e-16\n",
      " 5: -6.7211e-01 -6.7328e-01  1e-03  1e-16  6e-16\n",
      " 6: -6.7324e-01 -6.7325e-01  1e-05  2e-16  5e-16\n",
      " 7: -6.7325e-01 -6.7325e-01  1e-07  7e-21  5e-16\n",
      "Optimal solution found.\n",
      "opt sol = [0 0 0 0 0 0 0 0 0 0 0 0 0 0 0 0]\n",
      "alpha = 0.8875034795129059\n",
      "     pcost       dcost       gap    pres   dres\n",
      " 0: -8.6218e-01 -1.8441e+00  2e+02  1e+01  8e+00\n",
      " 1: -3.2984e-01 -1.6630e+00  3e+00  1e-01  9e-02\n",
      " 2: -3.0765e-01 -8.8591e-01  7e-01  2e-02  1e-02\n",
      " 3: -5.6478e-01 -8.4608e-01  3e-01  4e-16  8e-16\n",
      " 4: -7.0868e-01 -7.3454e-01  3e-02  1e-16  8e-16\n",
      " 5: -7.3091e-01 -7.3140e-01  5e-04  9e-19  9e-16\n",
      " 6: -7.3137e-01 -7.3138e-01  5e-06  2e-20  8e-16\n",
      " 7: -7.3138e-01 -7.3138e-01  5e-08  1e-16  7e-16\n",
      "Optimal solution found.\n",
      "opt sol = [0 0 0 0 0 0 0 0 1 0 0 0 0 0 0 0]\n",
      "alpha = 0.9062528995940882\n",
      "     pcost       dcost       gap    pres   dres\n",
      " 0: -9.7817e-01 -1.8950e+00  2e+02  1e+01  8e+00\n",
      " 1: -3.3109e-01 -1.7084e+00  3e+00  1e-01  8e-02\n",
      " 2: -3.1852e-01 -9.1952e-01  8e-01  2e-02  2e-02\n",
      " 3: -6.0533e-01 -9.0935e-01  3e-01  3e-16  7e-16\n",
      " 4: -7.7018e-01 -7.9229e-01  2e-02  1e-16  9e-16\n",
      " 5: -7.8926e-01 -7.8952e-01  3e-04  1e-16  8e-16\n",
      " 6: -7.8950e-01 -7.8950e-01  3e-06  2e-16  7e-16\n",
      " 7: -7.8950e-01 -7.8950e-01  3e-08  1e-16  7e-16\n",
      "Optimal solution found.\n",
      "opt sol = [0 0 0 0 0 0 0 0 0 0 0 1 0 0 0 1]\n",
      "alpha = 0.9250023196752706\n",
      "     pcost       dcost       gap    pres   dres\n",
      " 0: -1.1185e+00 -1.9465e+00  2e+02  1e+01  8e+00\n",
      " 1: -3.2521e-01 -1.7589e+00  3e+00  1e-01  7e-02\n",
      " 2: -3.2563e-01 -9.5410e-01  8e-01  2e-02  2e-02\n",
      " 3: -6.4753e-01 -9.8209e-01  3e-01  1e-16  9e-16\n",
      " 4: -8.3179e-01 -8.4984e-01  2e-02  4e-18  1e-15\n",
      " 5: -8.4746e-01 -8.4764e-01  2e-04  2e-16  8e-16\n",
      " 6: -8.4762e-01 -8.4762e-01  2e-06  1e-16  9e-16\n",
      " 7: -8.4762e-01 -8.4762e-01  2e-08  6e-23  9e-16\n",
      "Optimal solution found.\n",
      "opt sol = [0 0 1 1 0 0 0 0 0 0 0 1 1 0 1 0]\n",
      "alpha = 0.943751739756453\n",
      "     pcost       dcost       gap    pres   dres\n",
      " 0: -1.2916e+00 -1.9967e+00  2e+02  1e+01  8e+00\n",
      " 1: -3.0983e-01 -1.8160e+00  3e+00  9e-02  6e-02\n",
      " 2: -3.2586e-01 -9.8952e-01  9e-01  2e-02  2e-02\n",
      " 3: -6.7674e-01 -1.0677e+00  4e-01  1e-03  9e-04\n",
      " 4: -8.8939e-01 -9.0731e-01  2e-02  3e-06  2e-06\n",
      " 5: -9.0558e-01 -9.0576e-01  2e-04  3e-08  2e-08\n",
      " 6: -9.0574e-01 -9.0574e-01  2e-06  3e-10  2e-10\n",
      " 7: -9.0574e-01 -9.0574e-01  2e-08  3e-12  2e-12\n",
      "Optimal solution found.\n",
      "opt sol = [0 0 0 1 0 1 0 0 1 0 1 1 0 0 1 1]\n",
      "alpha = 0.9625011598376353\n",
      "     pcost       dcost       gap    pres   dres\n",
      " 0: -1.5109e+00 -2.0421e+00  2e+02  1e+01  8e+00\n",
      " 1: -2.8288e-01 -1.8815e+00  3e+00  7e-02  5e-02\n",
      " 2: -3.1332e-01 -1.0253e+00  9e-01  2e-02  2e-02\n",
      " 3: -6.9901e-01 -1.1819e+00  5e-01  4e-03  3e-03\n",
      " 4: -9.3560e-01 -9.6607e-01  3e-02  1e-04  8e-05\n",
      " 5: -9.6358e-01 -9.6389e-01  3e-04  1e-06  8e-07\n",
      " 6: -9.6386e-01 -9.6387e-01  3e-06  1e-08  8e-09\n",
      " 7: -9.6387e-01 -9.6387e-01  3e-08  1e-10  8e-11\n",
      "Optimal solution found.\n",
      "opt sol = [1 0 1 1 0 0 1 0 1 1 1 1 1 1 1 1]\n",
      "alpha = 0.9812505799188176\n",
      "     pcost       dcost       gap    pres   dres\n",
      " 0: -1.7984e+00 -2.0753e+00  2e+02  1e+01  8e+00\n",
      " 1: -2.4611e-01 -1.9579e+00  2e+00  4e-02  3e-02\n",
      " 2: -2.8406e-01 -1.0598e+00  9e-01  2e-02  1e-02\n",
      " 3: -7.3397e-01 -1.3545e+00  7e-01  6e-03  4e-03\n",
      " 4: -9.6673e-01 -1.0254e+00  6e-02  5e-04  3e-04\n",
      " 5: -1.0214e+00 -1.0220e+00  6e-04  5e-06  3e-06\n",
      " 6: -1.0220e+00 -1.0220e+00  6e-06  5e-08  3e-08\n",
      " 7: -1.0220e+00 -1.0220e+00  6e-08  5e-10  3e-10\n",
      "Optimal solution found.\n",
      "opt sol = [1 1 1 1 1 1 1 1 1 1 1 1 1 1 1 1]\n",
      "alpha = 1.0\n",
      "     pcost       dcost       gap    pres   dres\n",
      " 0: -2.1952e+00 -2.0801e+00  2e+02  1e+01  8e+00\n",
      " 1: -2.2241e-01 -2.0487e+00  2e+00  3e-02  2e-02\n",
      " 2: -2.5543e-01 -1.0898e+00  9e-01  1e-02  8e-03\n",
      " 3: -7.7747e-01 -1.5220e+00  8e-01  7e-03  5e-03\n",
      " 4: -1.0049e+00 -1.0845e+00  9e-02  7e-04  5e-04\n",
      " 5: -1.0794e+00 -1.0802e+00  9e-04  7e-06  5e-06\n",
      " 6: -1.0801e+00 -1.0801e+00  9e-06  7e-08  5e-08\n",
      " 7: -1.0801e+00 -1.0801e+00  9e-08  7e-10  5e-10\n",
      "Optimal solution found.\n",
      "opt sol = [1 1 1 1 1 1 1 1 1 1 1 1 1 1 1 1]\n"
     ]
    }
   ],
   "source": [
    "num_active_features = 16\n",
    "num_frozen_features = 10\n",
    "\n",
    "Q = Q_mi\n",
    "f = f_mi\n",
    "alpha = alpha_mi\n",
    "\n",
    "# Q = Q_pc\n",
    "# f = f_pc\n",
    "# alpha = alpha_pc\n",
    "\n",
    "alphas = np.linspace(np.clip(alpha, 0.0, 1.0), np.clip(2.0*alpha_mi, 0.0, 1.0), 21)\n",
    "\n",
    "# frozen_vector_strategy = \"QUBO\"\n",
    "frozen_vector_strategy = \"QPFS\"\n",
    "# frozen_vector_strategy = \"hybrid\"\n",
    "\n",
    "generate_reduced_quadratic_program_with_qpfs_for_alphas(Q, f, num_active_features,\n",
    "                                                        num_frozen_features=num_frozen_features, \n",
    "                                                        alphas=alphas,\n",
    "                                                        frozen_vector_strategy=frozen_vector_strategy)"
   ]
  },
  {
   "cell_type": "code",
   "execution_count": null,
   "metadata": {},
   "outputs": [],
   "source": []
  }
 ],
 "metadata": {
  "kernelspec": {
   "display_name": "Python 3",
   "language": "python",
   "name": "python3"
  },
  "language_info": {
   "codemirror_mode": {
    "name": "ipython",
    "version": 3
   },
   "file_extension": ".py",
   "mimetype": "text/x-python",
   "name": "python",
   "nbconvert_exporter": "python",
   "pygments_lexer": "ipython3",
   "version": "3.7.3"
  }
 },
 "nbformat": 4,
 "nbformat_minor": 2
}
